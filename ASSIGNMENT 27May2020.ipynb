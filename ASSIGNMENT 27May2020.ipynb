{
 "cells": [
  {
   "cell_type": "code",
   "execution_count": 1,
   "metadata": {},
   "outputs": [
    {
     "name": "stdout",
     "output_type": "stream",
     "text": [
      "* \r\n",
      "* * \r\n",
      "* * * \r\n",
      "* * * * \r\n",
      "* * * * * \r\n"
     ]
    }
   ],
   "source": [
    "for i in range(0,5):\n",
    "    for j in range (0,i+1):\n",
    "        print(\"*\",end=\" \")\n",
    "        \n",
    "    print(\"\\r\")"
   ]
  },
  {
   "cell_type": "code",
   "execution_count": null,
   "metadata": {},
   "outputs": [],
   "source": []
  },
  {
   "cell_type": "code",
   "execution_count": 2,
   "metadata": {},
   "outputs": [
    {
     "name": "stdout",
     "output_type": "stream",
     "text": [
      "enter the value of k5\n",
      "5 * 1 = 5\n",
      "5 * 2 = 10\n",
      "5 * 3 = 15\n",
      "5 * 4 = 20\n",
      "5 * 5 = 25\n",
      "5 * 6 = 30\n",
      "5 * 7 = 35\n",
      "5 * 8 = 40\n",
      "5 * 9 = 45\n",
      "5 * 10 = 50\n"
     ]
    }
   ],
   "source": [
    "k=int(input(\"enter the value of k\"))\n",
    "for i in range(1,11):\n",
    "    mul=k*i;\n",
    "    print(k,end=\" \")\n",
    "    print(\"*\",end=\" \")\n",
    "    print(i,end=\" \")\n",
    "    print(\"=\",end=\" \")\n",
    "    print(k*i)"
   ]
  },
  {
   "cell_type": "code",
   "execution_count": 3,
   "metadata": {},
   "outputs": [
    {
     "name": "stdout",
     "output_type": "stream",
     "text": [
      "enter the value of a2\n",
      "enter the value of b3\n",
      "enter the value of c5\n",
      "(-0.75+1.3919410907075054j)\n",
      "(-0.75-1.3919410907075054j)\n"
     ]
    }
   ],
   "source": [
    "import cmath\n",
    "a=int(input(\"enter the value of a\" ))\n",
    "b=int(input(\"enter the value of b\" ))\n",
    "c=int(input(\"enter the value of c\" ))\n",
    "bs=b*b\n",
    "fac=4*a*c\n",
    "bsm=bs-fac\n",
    "ta=2*a\n",
    "s=cmath.sqrt(bsm)\n",
    "a1=((-b)+s)/ta\n",
    "a2=((-b)-s)/ta\n",
    "print(a1)\n",
    "print(a2)"
   ]
  },
  {
   "cell_type": "code",
   "execution_count": 4,
   "metadata": {},
   "outputs": [
    {
     "name": "stdout",
     "output_type": "stream",
     "text": [
      "enter n5\n",
      "The decimal value of 5 : 0b101 in binary\n"
     ]
    }
   ],
   "source": [
    "n=int(input(\"enter n\"))\n",
    "print(\"The decimal value of\",n,\":\",bin(n),\"in binary\")"
   ]
  },
  {
   "cell_type": "code",
   "execution_count": 5,
   "metadata": {},
   "outputs": [
    {
     "name": "stdout",
     "output_type": "stream",
     "text": [
      "enter n5\n",
      "0\n",
      "1\n",
      "1\n",
      "2\n",
      "3\n"
     ]
    }
   ],
   "source": [
    "n=int(input(\"enter n\"))\n",
    "a=0;\n",
    "b=1;\n",
    "print(a)\n",
    "print(b)\n",
    "for i in range(0,n-2):\n",
    "    c=a+b;\n",
    "    a=b;\n",
    "    b=c;\n",
    "    print(c)"
   ]
  },
  {
   "cell_type": "code",
   "execution_count": null,
   "metadata": {},
   "outputs": [],
   "source": []
  }
 ],
 "metadata": {
  "kernelspec": {
   "display_name": "Python 3",
   "language": "python",
   "name": "python3"
  },
  "language_info": {
   "codemirror_mode": {
    "name": "ipython",
    "version": 3
   },
   "file_extension": ".py",
   "mimetype": "text/x-python",
   "name": "python",
   "nbconvert_exporter": "python",
   "pygments_lexer": "ipython3",
   "version": "3.7.6"
  }
 },
 "nbformat": 4,
 "nbformat_minor": 4
}
